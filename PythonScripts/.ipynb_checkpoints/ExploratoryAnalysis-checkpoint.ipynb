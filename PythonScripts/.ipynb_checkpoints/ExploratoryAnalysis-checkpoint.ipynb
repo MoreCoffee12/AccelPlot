{
 "cells": [
  {
   "cell_type": "code",
   "execution_count": 42,
   "metadata": {
    "collapsed": true
   },
   "outputs": [],
   "source": [
    "%matplotlib inline"
   ]
  },
  {
   "cell_type": "code",
   "execution_count": 43,
   "metadata": {
    "collapsed": true
   },
   "outputs": [],
   "source": [
    "# PUll in the libraries and define the functions we will be using"
   ]
  },
  {
   "cell_type": "code",
   "execution_count": 64,
   "metadata": {
    "collapsed": false
   },
   "outputs": [],
   "source": [
    "import os\n",
    "import numpy as np\n",
    "import matplotlib.pyplot as plt\n",
    "\n",
    "def getChannelData(iChannel, strTestCase):\n",
    "    cwd = os.getcwd()\n",
    "    cwd = cwd+'\\\\TrainingData\\\\'+strTestCase\n",
    "\n",
    "    f = []\n",
    "    for (dirpath, dirnames, filenames) in os.walk(cwd):\n",
    "        f.extend(filenames)\n",
    "        break\n",
    "        \n",
    "    strFileSearch = 'Trace0' + str(iChannel)\n",
    "    strFiles = filter(lambda x:strFileSearch in x, f)\n",
    "    \n",
    "    \n",
    "    for idx in range(0, len(strFiles)):\n",
    "        fh = open(cwd+'\\\\'+strFiles[idx], 'rb')\n",
    "        # read the data into numpy\n",
    "        if(idx==0):\n",
    "            x = np.fromfile(fh, dtype=('>f'))\n",
    "        else:\n",
    "            x = np.append(x, np.fromfile(fh, dtype=('>f')))\n",
    "        fh.close()\n",
    "    \n",
    "    return (x,strFiles)\n",
    "    "
   ]
  },
  {
   "cell_type": "code",
   "execution_count": 65,
   "metadata": {
    "collapsed": true
   },
   "outputs": [],
   "source": [
    "# Begin by getting the data into python"
   ]
  },
  {
   "cell_type": "code",
   "execution_count": 104,
   "metadata": {
    "collapsed": false
   },
   "outputs": [
    {
     "data": {
      "text/plain": [
       "['Trace01_0000000.dat']"
      ]
     },
     "execution_count": 104,
     "metadata": {},
     "output_type": "execute_result"
    },
    {
     "data": {
      "image/png": "[encoded data removed]",
      "text/plain": [
       "<matplotlib.figure.Figure at 0x8da8f98>"
      ]
     },
     "metadata": {},
     "output_type": "display_data"
    }
   ],
   "source": [
    "strFolder = 'Static'\n",
    "(x1,strFiles1) = getChannelData(1,strFolder)\n",
    "(x2,strFiles2) = getChannelData(2,strFolder)\n",
    "(x3,strFiles3) = getChannelData(3,strFolder)\n",
    "(x4,strFiles4) = getChannelData(4,strFolder)\n",
    "plt.subplot(2,2,1)\n",
    "plt.plot(x1)\n",
    "plt.ylim((0, 10000))\n",
    "plt.title('Ch1')\n",
    "\n",
    "plt.subplot(2,2,2)\n",
    "plt.plot(x2)\n",
    "plt.ylim((0, 10000))\n",
    "plt.title('Ch2')\n",
    "\n",
    "plt.subplot(2,2,3)\n",
    "plt.plot(x3)\n",
    "plt.ylim((0, 10000))\n",
    "plt.title('Ch3')\n",
    "\n",
    "plt.subplot(2,2,4)\n",
    "plt.plot(x4)\n",
    "plt.ylim((0, 10000))\n",
    "plt.title('Ch')\n",
    "\n",
    "\n",
    "strFiles1"
   ]
  },
  {
   "cell_type": "code",
   "execution_count": 105,
   "metadata": {
    "collapsed": false
   },
   "outputs": [
    {
     "data": {
      "text/plain": [
       "array([ 4053.,  4052.,  4054., ...,  4050.,  4059.,  4058.], dtype=float32)"
      ]
     },
     "execution_count": 105,
     "metadata": {},
     "output_type": "execute_result"
    }
   ],
   "source": [
    "x1"
   ]
  },
  {
   "cell_type": "code",
   "execution_count": 106,
   "metadata": {
    "collapsed": false
   },
   "outputs": [
    {
     "data": {
      "text/plain": [
       "array([ 4187.,  4181.,  4171., ...,  4174.,  4178.,  4188.], dtype=float32)"
      ]
     },
     "execution_count": 106,
     "metadata": {},
     "output_type": "execute_result"
    }
   ],
   "source": [
    "x2"
   ]
  },
  {
   "cell_type": "code",
   "execution_count": 107,
   "metadata": {
    "collapsed": false
   },
   "outputs": [
    {
     "data": {
      "text/plain": [
       "array([ 2249.,  2247.,  2245., ...,  2240.,  2245.,  2248.], dtype=float32)"
      ]
     },
     "execution_count": 107,
     "metadata": {},
     "output_type": "execute_result"
    }
   ],
   "source": [
    "x3"
   ]
  },
  {
   "cell_type": "code",
   "execution_count": 108,
   "metadata": {
    "collapsed": false
   },
   "outputs": [
    {
     "data": {
      "text/plain": [
       "array([ 4227.,  4226.,  4227., ...,  4228.,  4227.,  4229.], dtype=float32)"
      ]
     },
     "execution_count": 108,
     "metadata": {},
     "output_type": "execute_result"
    }
   ],
   "source": [
    "x4"
   ]
  },
  {
   "cell_type": "code",
   "execution_count": 109,
   "metadata": {
    "collapsed": false
   },
   "outputs": [
    {
     "data": {
      "text/plain": [
       "[<matplotlib.lines.Line2D at 0x8d90be0>]"
      ]
     },
     "execution_count": 109,
     "metadata": {},
     "output_type": "execute_result"
    },
    {
     "data": {
      "image/png": "[encoded data removed]",
      "text/plain": [
       "<matplotlib.figure.Figure at 0x91fc160>"
      ]
     },
     "metadata": {},
     "output_type": "display_data"
    }
   ],
   "source": [
    "plt.plot(x3)"
   ]
  },
  {
   "cell_type": "code",
   "execution_count": 110,
   "metadata": {
    "collapsed": false
   },
   "outputs": [
    {
     "data": {
      "text/plain": [
       "[<matplotlib.lines.Line2D at 0x9b2ac18>]"
      ]
     },
     "execution_count": 110,
     "metadata": {},
     "output_type": "execute_result"
    },
    {
     "data": {
      "image/png": "[encoded data removed]",
      "text/plain": [
       "<matplotlib.figure.Figure at 0x8daf470>"
      ]
     },
     "metadata": {},
     "output_type": "display_data"
    }
   ],
   "source": [
    "plt.plot(x4)"
   ]
  },
  {
   "cell_type": "code",
   "execution_count": null,
   "metadata": {
    "collapsed": true
   },
   "outputs": [],
   "source": []
  }
 ],
 "metadata": {
  "kernelspec": {
   "display_name": "Python 2",
   "language": "python",
   "name": "python2"
  },
  "language_info": {
   "codemirror_mode": {
    "name": "ipython",
    "version": 2
   },
   "file_extension": ".py",
   "mimetype": "text/x-python",
   "name": "python",
   "nbconvert_exporter": "python",
   "pygments_lexer": "ipython2",
   "version": "2.7.12"
  }
 },
 "nbformat": 4,
 "nbformat_minor": 0
}
