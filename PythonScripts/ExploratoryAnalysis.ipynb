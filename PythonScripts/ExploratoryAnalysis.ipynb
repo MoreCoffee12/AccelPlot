{
 "cells": [
  {
   "cell_type": "code",
   "execution_count": 79,
   "metadata": {
    "collapsed": true
   },
   "outputs": [],
   "source": [
    "%matplotlib inline"
   ]
  },
  {
   "cell_type": "code",
   "execution_count": 80,
   "metadata": {
    "collapsed": true
   },
   "outputs": [],
   "source": [
    "# PUll in the libraries and define the functions we will be using"
   ]
  },
  {
   "cell_type": "code",
   "execution_count": 104,
   "metadata": {
    "collapsed": false
   },
   "outputs": [],
   "source": [
    "import os\n",
    "import numpy as np\n",
    "import matplotlib.pyplot as plt\n",
    "\n",
    "def getChannelData(iChannel, strTestCase):\n",
    "    cwd = os.getcwd()\n",
    "    cwd = cwd+'\\\\TrainingData\\\\'+strTestCase\n",
    "\n",
    "    f = []\n",
    "    for (dirpath, dirnames, filenames) in walk(cwd):\n",
    "        f.extend(filenames)\n",
    "        break\n",
    "        \n",
    "    strFileSearch = 'Trace0' + str(iChannel)\n",
    "    strFiles = filter(lambda x:strFileSearch in x, f)\n",
    "    \n",
    "    \n",
    "    for idx in range(0, len(strFiles)):\n",
    "        fh = open(cwd+'\\\\'+strFiles[idx], 'rb')\n",
    "        # read the data into numpy\n",
    "        if(idx==0):\n",
    "            x = np.fromfile(fh, dtype=('>f'))\n",
    "        else:\n",
    "            x = np.append(x, np.fromfile(fh, dtype=('>f')))\n",
    "        print x\n",
    "        fh.close()\n",
    "    \n",
    "    return (x,strFiles)\n",
    "    "
   ]
  },
  {
   "cell_type": "code",
   "execution_count": 89,
   "metadata": {
    "collapsed": true
   },
   "outputs": [],
   "source": [
    "# Begin by getting the data into python"
   ]
  },
  {
   "cell_type": "code",
   "execution_count": 116,
   "metadata": {
    "collapsed": false
   },
   "outputs": [
    {
     "name": "stdout",
     "output_type": "stream",
     "text": [
      "[ 4096.  4100.  4101. ...,  4092.  4098.  4099.]\n",
      "[ 4096.  4100.  4101. ...,  4088.  4099.  4095.]\n",
      "[ 4096.  4100.  4101. ...,  4095.  4093.  4096.]\n",
      "[ 4096.  4100.  4101. ...,  4095.  4085.  4094.]\n",
      "[ 4096.  4100.  4101. ...,  2242.  2250.  2243.]\n",
      "[ 4096.  4100.  4101. ...,  4099.  4100.  4093.]\n",
      "[ 4096.  4100.  4101. ...,  2237.  2245.  2262.]\n"
     ]
    },
    {
     "data": {
      "text/plain": [
       "['Trace03_0000002.dat',\n",
       " 'Trace03_0000006.dat',\n",
       " 'Trace03_0000010.dat',\n",
       " 'Trace03_0000014.dat',\n",
       " 'Trace03_0000018.dat',\n",
       " 'Trace03_0000022.dat',\n",
       " 'Trace03_0000026.dat']"
      ]
     },
     "execution_count": 116,
     "metadata": {},
     "output_type": "execute_result"
    },
    {
     "data": {
      "image/png": "[encoded data removed]",
      "text/plain": [
       "<matplotlib.figure.Figure at 0x1225e9b0>"
      ]
     },
     "metadata": {},
     "output_type": "display_data"
    }
   ],
   "source": [
    "(x,strFiles) = getChannelData(3,'Static')\n",
    "plt.plot(x)\n",
    "strFiles"
   ]
  },
  {
   "cell_type": "code",
   "execution_count": null,
   "metadata": {
    "collapsed": true
   },
   "outputs": [],
   "source": []
  }
 ],
 "metadata": {
  "kernelspec": {
   "display_name": "Python 2",
   "language": "python",
   "name": "python2"
  },
  "language_info": {
   "codemirror_mode": {
    "name": "ipython",
    "version": 2
   },
   "file_extension": ".py",
   "mimetype": "text/x-python",
   "name": "python",
   "nbconvert_exporter": "python",
   "pygments_lexer": "ipython2",
   "version": "2.7.9"
  }
 },
 "nbformat": 4,
 "nbformat_minor": 0
}
