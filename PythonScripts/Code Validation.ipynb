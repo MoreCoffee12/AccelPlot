{
 "cells": [
  {
   "cell_type": "code",
   "execution_count": 1,
   "metadata": {
    "collapsed": true
   },
   "outputs": [],
   "source": [
    "%matplotlib inline"
   ]
  },
  {
   "cell_type": "markdown",
   "metadata": {},
   "source": [
    "## Definitions\n",
    "### These are values defined in the Arduino code and documented in \"Bluetooth.java\" in the application"
   ]
  },
  {
   "cell_type": "code",
   "execution_count": 2,
   "metadata": {
    "collapsed": true
   },
   "outputs": [],
   "source": [
    "D_SAMPLING_FREQUENCY = 500"
   ]
  },
  {
   "cell_type": "markdown",
   "metadata": {
    "collapsed": true
   },
   "source": [
    "### Pull in the libraries and define the functions we will be using"
   ]
  },
  {
   "cell_type": "code",
   "execution_count": 3,
   "metadata": {
    "collapsed": false
   },
   "outputs": [],
   "source": [
    "import os\n",
    "import numpy as np\n",
    "import matplotlib.pyplot as plt\n",
    "import pandas as pd\n",
    "plt.style.use('ggplot')"
   ]
  },
  {
   "cell_type": "markdown",
   "metadata": {},
   "source": [
    "### This function pulls in the data for each channel"
   ]
  },
  {
   "cell_type": "code",
   "execution_count": 4,
   "metadata": {
    "collapsed": false
   },
   "outputs": [],
   "source": [
    "def getChannelData(iChannel, strTestCase):\n",
    "    cwd = os.getcwd()\n",
    "    cwd = cwd+'\\\\CodeValidationData\\\\'+strTestCase\n",
    "\n",
    "    f = []\n",
    "    for (dirpath, dirnames, filenames) in os.walk(cwd):\n",
    "        f.extend(filenames)\n",
    "        break\n",
    "        \n",
    "    strFileSearch = 'Trace0' + str(iChannel)\n",
    "    strFiles = filter(lambda x:strFileSearch in x, f)\n",
    "    \n",
    "    \n",
    "    for idx in range(0, len(strFiles)):\n",
    "        fh = open(cwd+'\\\\'+strFiles[idx], 'rb')\n",
    "        # read the data into numpy\n",
    "        if(idx==0):\n",
    "            xEnd = np.fromfile(fh, dtype=('>f'))\n",
    "        else:\n",
    "            xEnd = np.append(x, np.fromfile(fh, dtype=('>f')))\n",
    "        fh.close()\n",
    "    \n",
    "    # We have to switch the underlying NumPy array to native system\n",
    "    # Great write up at: http://pandas.pydata.org/pandas-docs/stable/gotchas.html. \n",
    "    # If you don't do this you get an error: ValueError: Big-endian buffer not supported on little-endian compiler\n",
    "    x = xEnd.byteswap().newbyteorder()\n",
    "    \n",
    "    return (x,strFiles)"
   ]
  },
  {
   "cell_type": "markdown",
   "metadata": {},
   "source": [
    "### This function pulls the arrays from the data file function into a single data frame and addes the extracted values"
   ]
  },
  {
   "cell_type": "code",
   "execution_count": 5,
   "metadata": {
    "collapsed": false
   },
   "outputs": [],
   "source": [
    "def getDataAsFrame(strTestCase):\n",
    "\n",
    "    # Read the data in\n",
    "    (x1,strFiles1) = getChannelData(1,strFolder)\n",
    "    (x2,strFiles2) = getChannelData(2,strFolder)\n",
    "    (x3,strFiles3) = getChannelData(3,strFolder)\n",
    "    (x4,strFiles4) = getChannelData(4,strFolder)\n",
    "    t = np.divide(range(0,len(x1)),D_SAMPLING_FREQUENCY)\n",
    "\n",
    "    # Construct the data frame\n",
    "    dfData = pd.DataFrame(data={('t'):t,\n",
    "                                ('XAcc'):x1, \n",
    "                                ('YAcc'):x2, \n",
    "                                ('ZAcc'):x3, \n",
    "                                ('Light'):x4,\n",
    "                                'Surface':strTestCase})\n",
    "    \n",
    "    return dfData"
   ]
  },
  {
   "cell_type": "markdown",
   "metadata": {},
   "source": [
    "### This function appends one dataframe to another"
   ]
  },
  {
   "cell_type": "code",
   "execution_count": 6,
   "metadata": {
    "collapsed": true
   },
   "outputs": [],
   "source": [
    "def appendDataAsFrame(strTestCase, dfData):\n",
    "    dfNew = getDataAsFrame(strTestCase)\n",
    "    dfDataOut = dfData.append(dfNew)\n",
    "    dfDataOut = dfDataOut.reset_index(drop=True)\n",
    "\n",
    "    return dfDataOut"
   ]
  },
  {
   "cell_type": "markdown",
   "metadata": {},
   "source": [
    "### This function plots the timebase data in the data frame"
   ]
  },
  {
   "cell_type": "code",
   "execution_count": 7,
   "metadata": {
    "collapsed": true
   },
   "outputs": [],
   "source": [
    "def plotFolder(dfDataPlot, strClass):\n",
    "    \n",
    "    fig, axes = plt.subplots(nrows=2, ncols=2)\n",
    "    fig.subplots_adjust(wspace=.5, hspace=0.5)\n",
    "    \n",
    "    strColName = 'XAcc'\n",
    "    ax = dfDataPlot.plot(x='t', y=strColName, \n",
    "                     ax=axes[0,0], legend=True, figsize=(10,10))\n",
    "    ax.set_xlabel('Time, seconds')\n",
    "    ax.set_ylabel('Amplitude, ADC counts')\n",
    "    ax.set_title(strColName+'_'+strClass)\n",
    "\n",
    "    strColName = 'YAcc'\n",
    "    ax = dfDataPlot.plot(x='t', y=strColName, \n",
    "                     ax=axes[0,1], legend=True, figsize=(10,10))\n",
    "    ax.set_xlabel('Time, seconds')\n",
    "    ax.set_ylabel('Amplitude, ADC counts')\n",
    "    ax.set_title(strColName+'_'+strClass)\n",
    "\n",
    "    strColName = 'ZAcc'\n",
    "    ax = dfDataPlot.plot(x='t', y=strColName, \n",
    "                     ax=axes[1,0], legend=True, figsize=(10,10))\n",
    "    ax.set_xlabel('Time, seconds')\n",
    "    ax.set_ylabel('Amplitude, ADC counts')\n",
    "    ax.set_title(strColName+'_'+strClass)\n",
    "\n",
    "    strColName = 'Light'\n",
    "    ax = dfDataPlot.plot(x='t', y=strColName, \n",
    "                     ax=axes[1,1], legend=True, figsize=(10,10))\n",
    "    ax.set_xlabel('Time, seconds')\n",
    "    ax.set_ylabel('Amplitude, ADC counts')\n",
    "    ax.set_title(strColName+'_'+strClass)\n"
   ]
  },
  {
   "cell_type": "markdown",
   "metadata": {
    "collapsed": true
   },
   "source": [
    "### Get the data into python"
   ]
  },
  {
   "cell_type": "code",
   "execution_count": 8,
   "metadata": {
    "collapsed": false
   },
   "outputs": [],
   "source": [
    "strFolder = '170329_001'\n",
    "dfData = getDataAsFrame(strFolder)\n"
   ]
  },
  {
   "cell_type": "markdown",
   "metadata": {},
   "source": [
    "### Plot out the data"
   ]
  },
  {
   "cell_type": "code",
   "execution_count": 9,
   "metadata": {
    "collapsed": false
   },
   "outputs": [
    {
     "data": {
      "image/png": "[encoded data removed]",
      "text/plain": [
       "<matplotlib.figure.Figure at 0x632d518>"
      ]
     },
     "metadata": {},
     "output_type": "display_data"
    }
   ],
   "source": [
    "plotFolder(dfData.loc[dfData['Surface'] == strFolder], strFolder)"
   ]
  },
  {
   "cell_type": "code",
   "execution_count": 10,
   "metadata": {
    "collapsed": false
   },
   "outputs": [
    {
     "data": {
      "text/html": [
       "<div>\n",
       "<table border=\"1\" class=\"dataframe\">\n",
       "  <thead>\n",
       "    <tr style=\"text-align: right;\">\n",
       "      <th></th>\n",
       "      <th>Light</th>\n",
       "      <th>Surface</th>\n",
       "      <th>XAcc</th>\n",
       "      <th>YAcc</th>\n",
       "      <th>ZAcc</th>\n",
       "      <th>t</th>\n",
       "    </tr>\n",
       "  </thead>\n",
       "  <tbody>\n",
       "    <tr>\n",
       "      <th>0</th>\n",
       "      <td>4095.0</td>\n",
       "      <td>170329_001</td>\n",
       "      <td>4341.0</td>\n",
       "      <td>3795.0</td>\n",
       "      <td>2271.0</td>\n",
       "      <td>0</td>\n",
       "    </tr>\n",
       "    <tr>\n",
       "      <th>1</th>\n",
       "      <td>4095.0</td>\n",
       "      <td>170329_001</td>\n",
       "      <td>4337.0</td>\n",
       "      <td>3807.0</td>\n",
       "      <td>2279.0</td>\n",
       "      <td>0</td>\n",
       "    </tr>\n",
       "    <tr>\n",
       "      <th>2</th>\n",
       "      <td>4095.0</td>\n",
       "      <td>170329_001</td>\n",
       "      <td>4332.0</td>\n",
       "      <td>3810.0</td>\n",
       "      <td>2249.0</td>\n",
       "      <td>0</td>\n",
       "    </tr>\n",
       "    <tr>\n",
       "      <th>3</th>\n",
       "      <td>4095.0</td>\n",
       "      <td>170329_001</td>\n",
       "      <td>4320.0</td>\n",
       "      <td>3803.0</td>\n",
       "      <td>2262.0</td>\n",
       "      <td>0</td>\n",
       "    </tr>\n",
       "    <tr>\n",
       "      <th>4</th>\n",
       "      <td>4095.0</td>\n",
       "      <td>170329_001</td>\n",
       "      <td>4320.0</td>\n",
       "      <td>3809.0</td>\n",
       "      <td>2268.0</td>\n",
       "      <td>0</td>\n",
       "    </tr>\n",
       "    <tr>\n",
       "      <th>5</th>\n",
       "      <td>4095.0</td>\n",
       "      <td>170329_001</td>\n",
       "      <td>4330.0</td>\n",
       "      <td>3805.0</td>\n",
       "      <td>2254.0</td>\n",
       "      <td>0</td>\n",
       "    </tr>\n",
       "    <tr>\n",
       "      <th>6</th>\n",
       "      <td>4095.0</td>\n",
       "      <td>170329_001</td>\n",
       "      <td>4315.0</td>\n",
       "      <td>3807.0</td>\n",
       "      <td>2261.0</td>\n",
       "      <td>0</td>\n",
       "    </tr>\n",
       "    <tr>\n",
       "      <th>7</th>\n",
       "      <td>4095.0</td>\n",
       "      <td>170329_001</td>\n",
       "      <td>4321.0</td>\n",
       "      <td>3796.0</td>\n",
       "      <td>2271.0</td>\n",
       "      <td>0</td>\n",
       "    </tr>\n",
       "    <tr>\n",
       "      <th>8</th>\n",
       "      <td>4095.0</td>\n",
       "      <td>170329_001</td>\n",
       "      <td>4318.0</td>\n",
       "      <td>3789.0</td>\n",
       "      <td>2254.0</td>\n",
       "      <td>0</td>\n",
       "    </tr>\n",
       "    <tr>\n",
       "      <th>9</th>\n",
       "      <td>4095.0</td>\n",
       "      <td>170329_001</td>\n",
       "      <td>4314.0</td>\n",
       "      <td>3796.0</td>\n",
       "      <td>2251.0</td>\n",
       "      <td>0</td>\n",
       "    </tr>\n",
       "  </tbody>\n",
       "</table>\n",
       "</div>"
      ],
      "text/plain": [
       "    Light     Surface    XAcc    YAcc    ZAcc  t\n",
       "0  4095.0  170329_001  4341.0  3795.0  2271.0  0\n",
       "1  4095.0  170329_001  4337.0  3807.0  2279.0  0\n",
       "2  4095.0  170329_001  4332.0  3810.0  2249.0  0\n",
       "3  4095.0  170329_001  4320.0  3803.0  2262.0  0\n",
       "4  4095.0  170329_001  4320.0  3809.0  2268.0  0\n",
       "5  4095.0  170329_001  4330.0  3805.0  2254.0  0\n",
       "6  4095.0  170329_001  4315.0  3807.0  2261.0  0\n",
       "7  4095.0  170329_001  4321.0  3796.0  2271.0  0\n",
       "8  4095.0  170329_001  4318.0  3789.0  2254.0  0\n",
       "9  4095.0  170329_001  4314.0  3796.0  2251.0  0"
      ]
     },
     "execution_count": 10,
     "metadata": {},
     "output_type": "execute_result"
    }
   ],
   "source": [
    "dfData.head(10)"
   ]
  },
  {
   "cell_type": "code",
   "execution_count": 11,
   "metadata": {
    "collapsed": false
   },
   "outputs": [
    {
     "data": {
      "text/plain": [
       "1800000"
      ]
     },
     "execution_count": 11,
     "metadata": {},
     "output_type": "execute_result"
    }
   ],
   "source": [
    "500*3600"
   ]
  },
  {
   "cell_type": "code",
   "execution_count": null,
   "metadata": {
    "collapsed": true
   },
   "outputs": [],
   "source": []
  }
 ],
 "metadata": {
  "anaconda-cloud": {},
  "kernelspec": {
   "display_name": "Python 2",
   "language": "python",
   "name": "python2"
  },
  "language_info": {
   "codemirror_mode": {
    "name": "ipython",
    "version": 2
   },
   "file_extension": ".py",
   "mimetype": "text/x-python",
   "name": "python",
   "nbconvert_exporter": "python",
   "pygments_lexer": "ipython2",
   "version": "2.7.12"
  }
 },
 "nbformat": 4,
 "nbformat_minor": 0
}
