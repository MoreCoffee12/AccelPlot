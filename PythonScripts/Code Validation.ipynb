{
 "cells": [
  {
   "cell_type": "code",
   "execution_count": 1,
   "metadata": {
    "collapsed": true
   },
   "outputs": [],
   "source": [
    "%matplotlib inline"
   ]
  },
  {
   "cell_type": "markdown",
   "metadata": {},
   "source": [
    "## Definitions\n",
    "### These are values defined in the Arduino code and documented in \"Bluetooth.java\" in the application"
   ]
  },
  {
   "cell_type": "code",
   "execution_count": 2,
   "metadata": {
    "collapsed": true
   },
   "outputs": [],
   "source": [
    "D_SAMPLING_FREQUENCY = 250.0"
   ]
  },
  {
   "cell_type": "markdown",
   "metadata": {
    "collapsed": true
   },
   "source": [
    "### Pull in the libraries and define the functions we will be using"
   ]
  },
  {
   "cell_type": "code",
   "execution_count": 3,
   "metadata": {
    "collapsed": false
   },
   "outputs": [],
   "source": [
    "import os\n",
    "import numpy as np\n",
    "import matplotlib.pyplot as plt\n",
    "import pandas as pd\n",
    "plt.style.use('ggplot')"
   ]
  },
  {
   "cell_type": "markdown",
   "metadata": {},
   "source": [
    "### This function pulls in the data for each channel"
   ]
  },
  {
   "cell_type": "code",
   "execution_count": 4,
   "metadata": {
    "collapsed": false
   },
   "outputs": [],
   "source": [
    "def getChannelData(iChannel, strTestCase):\n",
    "    cwd = os.getcwd()\n",
    "    cwd = cwd+'\\\\CodeValidationData\\\\'+strTestCase\n",
    "\n",
    "    f = []\n",
    "    for (dirpath, dirnames, filenames) in os.walk(cwd):\n",
    "        f.extend(filenames)\n",
    "        break\n",
    "        \n",
    "    strFileSearch = 'Trace0' + str(iChannel)\n",
    "    strFiles = filter(lambda x:strFileSearch in x, f)\n",
    "    \n",
    "    \n",
    "    for idx in range(0, len(strFiles)):\n",
    "        fh = open(cwd+'\\\\'+strFiles[idx], 'rb')\n",
    "        # read the data into numpy\n",
    "        if(idx==0):\n",
    "            xEnd = np.fromfile(fh, dtype=('>f'))\n",
    "        else:\n",
    "            xEnd = np.append(x, np.fromfile(fh, dtype=('>f')))\n",
    "        fh.close()\n",
    "    \n",
    "    # We have to switch the underlying NumPy array to native system\n",
    "    # Great write up at: http://pandas.pydata.org/pandas-docs/stable/gotchas.html. \n",
    "    # If you don't do this you get an error: ValueError: Big-endian buffer not supported on little-endian compiler\n",
    "    x = xEnd.byteswap().newbyteorder()\n",
    "    \n",
    "    return (x,strFiles)"
   ]
  },
  {
   "cell_type": "markdown",
   "metadata": {},
   "source": [
    "### This function pulls the arrays from the data file function into a single data frame and addes the extracted values"
   ]
  },
  {
   "cell_type": "code",
   "execution_count": 5,
   "metadata": {
    "collapsed": false
   },
   "outputs": [],
   "source": [
    "def getDataAsFrame(strTestCase):\n",
    "\n",
    "    # Read the data in\n",
    "    (x1,strFiles1) = getChannelData(1,strFolder)\n",
    "    (x2,strFiles2) = getChannelData(2,strFolder)\n",
    "    (x3,strFiles3) = getChannelData(3,strFolder)\n",
    "    (x4,strFiles4) = getChannelData(4,strFolder)\n",
    "    t = np.divide(range(0,len(x1)),D_SAMPLING_FREQUENCY)\n",
    "\n",
    "    # Construct the data frame\n",
    "    dfData = pd.DataFrame(data={('t'):t,\n",
    "                                ('XAcc'):x1, \n",
    "                                ('YAcc'):x2, \n",
    "                                ('ZAcc'):x3, \n",
    "                                ('Light'):x4,\n",
    "                                'Surface':strTestCase})\n",
    "    \n",
    "    return dfData"
   ]
  },
  {
   "cell_type": "markdown",
   "metadata": {},
   "source": [
    "### This function appends one dataframe to another"
   ]
  },
  {
   "cell_type": "code",
   "execution_count": 6,
   "metadata": {
    "collapsed": true
   },
   "outputs": [],
   "source": [
    "def appendDataAsFrame(strTestCase, dfData):\n",
    "    dfNew = getDataAsFrame(strTestCase)\n",
    "    dfDataOut = dfData.append(dfNew)\n",
    "    dfDataOut = dfDataOut.reset_index(drop=True)\n",
    "\n",
    "    return dfDataOut"
   ]
  },
  {
   "cell_type": "markdown",
   "metadata": {},
   "source": [
    "### This function plots the timebase data in the data frame"
   ]
  },
  {
   "cell_type": "code",
   "execution_count": 7,
   "metadata": {
    "collapsed": true
   },
   "outputs": [],
   "source": [
    "def plotFolder(dfDataPlot, strClass):\n",
    "    \n",
    "    fig, axes = plt.subplots(nrows=2, ncols=2)\n",
    "    fig.subplots_adjust(wspace=.5, hspace=0.5)\n",
    "    \n",
    "    strColName = 'XAcc'\n",
    "    ax = dfDataPlot.plot(x='t', y=strColName, \n",
    "                     ax=axes[0,0], legend=True, figsize=(10,10))\n",
    "    ax.set_xlabel('Time, seconds')\n",
    "    ax.set_ylabel('Amplitude, ADC counts')\n",
    "    ax.set_title(strColName+'_'+strClass)\n",
    "\n",
    "    strColName = 'YAcc'\n",
    "    ax = dfDataPlot.plot(x='t', y=strColName, \n",
    "                     ax=axes[0,1], legend=True, figsize=(10,10))\n",
    "    ax.set_xlabel('Time, seconds')\n",
    "    ax.set_ylabel('Amplitude, ADC counts')\n",
    "    ax.set_title(strColName+'_'+strClass)\n",
    "\n",
    "    strColName = 'ZAcc'\n",
    "    ax = dfDataPlot.plot(x='t', y=strColName, \n",
    "                     ax=axes[1,0], legend=True, figsize=(10,10))\n",
    "    ax.set_xlabel('Time, seconds')\n",
    "    ax.set_ylabel('Amplitude, ADC counts')\n",
    "    ax.set_title(strColName+'_'+strClass)\n",
    "\n",
    "    strColName = 'Light'\n",
    "    ax = dfDataPlot.plot(x='t', y=strColName, \n",
    "                     ax=axes[1,1], legend=True, figsize=(10,10))\n",
    "    ax.set_xlabel('Time, seconds')\n",
    "    ax.set_ylabel('Amplitude, ADC counts')\n",
    "    ax.set_title(strColName+'_'+strClass)\n"
   ]
  },
  {
   "cell_type": "markdown",
   "metadata": {
    "collapsed": true
   },
   "source": [
    "### Get the data into python"
   ]
  },
  {
   "cell_type": "code",
   "execution_count": 9,
   "metadata": {
    "collapsed": false
   },
   "outputs": [],
   "source": [
    "strFolder = '170226_001'\n",
    "dfData = getDataAsFrame(strFolder)\n"
   ]
  },
  {
   "cell_type": "markdown",
   "metadata": {},
   "source": [
    "### Plot out the data"
   ]
  },
  {
   "cell_type": "code",
   "execution_count": 10,
   "metadata": {
    "collapsed": false
   },
   "outputs": [
    {
     "data": {
      "image/png": "[encoded data removed]",
      "text/plain": [
       "<matplotlib.figure.Figure at 0x82a9dd8>"
      ]
     },
     "metadata": {},
     "output_type": "display_data"
    }
   ],
   "source": [
    "strClass = '170226_001'\n",
    "plotFolder(dfData.loc[dfData['Surface'] == strClass], strClass)"
   ]
  },
  {
   "cell_type": "code",
   "execution_count": 11,
   "metadata": {
    "collapsed": false
   },
   "outputs": [
    {
     "data": {
      "text/html": [
       "<div>\n",
       "<table border=\"1\" class=\"dataframe\">\n",
       "  <thead>\n",
       "    <tr style=\"text-align: right;\">\n",
       "      <th></th>\n",
       "      <th>Light</th>\n",
       "      <th>Surface</th>\n",
       "      <th>XAcc</th>\n",
       "      <th>YAcc</th>\n",
       "      <th>ZAcc</th>\n",
       "      <th>t</th>\n",
       "    </tr>\n",
       "  </thead>\n",
       "  <tbody>\n",
       "    <tr>\n",
       "      <th>0</th>\n",
       "      <td>4095.0</td>\n",
       "      <td>170226_001</td>\n",
       "      <td>4364.0</td>\n",
       "      <td>4154.0</td>\n",
       "      <td>2240.0</td>\n",
       "      <td>0.000</td>\n",
       "    </tr>\n",
       "    <tr>\n",
       "      <th>1</th>\n",
       "      <td>4095.0</td>\n",
       "      <td>170226_001</td>\n",
       "      <td>4349.0</td>\n",
       "      <td>4161.0</td>\n",
       "      <td>2237.0</td>\n",
       "      <td>0.004</td>\n",
       "    </tr>\n",
       "    <tr>\n",
       "      <th>2</th>\n",
       "      <td>4095.0</td>\n",
       "      <td>170226_001</td>\n",
       "      <td>4363.0</td>\n",
       "      <td>4161.0</td>\n",
       "      <td>2251.0</td>\n",
       "      <td>0.008</td>\n",
       "    </tr>\n",
       "    <tr>\n",
       "      <th>3</th>\n",
       "      <td>4095.0</td>\n",
       "      <td>170226_001</td>\n",
       "      <td>4361.0</td>\n",
       "      <td>4167.0</td>\n",
       "      <td>2235.0</td>\n",
       "      <td>0.012</td>\n",
       "    </tr>\n",
       "    <tr>\n",
       "      <th>4</th>\n",
       "      <td>4095.0</td>\n",
       "      <td>170226_001</td>\n",
       "      <td>4360.0</td>\n",
       "      <td>4148.0</td>\n",
       "      <td>2234.0</td>\n",
       "      <td>0.016</td>\n",
       "    </tr>\n",
       "    <tr>\n",
       "      <th>5</th>\n",
       "      <td>4095.0</td>\n",
       "      <td>170226_001</td>\n",
       "      <td>4351.0</td>\n",
       "      <td>4158.0</td>\n",
       "      <td>2250.0</td>\n",
       "      <td>0.020</td>\n",
       "    </tr>\n",
       "    <tr>\n",
       "      <th>6</th>\n",
       "      <td>4095.0</td>\n",
       "      <td>170226_001</td>\n",
       "      <td>4345.0</td>\n",
       "      <td>4146.0</td>\n",
       "      <td>2250.0</td>\n",
       "      <td>0.024</td>\n",
       "    </tr>\n",
       "    <tr>\n",
       "      <th>7</th>\n",
       "      <td>4095.0</td>\n",
       "      <td>170226_001</td>\n",
       "      <td>4343.0</td>\n",
       "      <td>4143.0</td>\n",
       "      <td>2268.0</td>\n",
       "      <td>0.028</td>\n",
       "    </tr>\n",
       "    <tr>\n",
       "      <th>8</th>\n",
       "      <td>4095.0</td>\n",
       "      <td>170226_001</td>\n",
       "      <td>4348.0</td>\n",
       "      <td>4153.0</td>\n",
       "      <td>2253.0</td>\n",
       "      <td>0.032</td>\n",
       "    </tr>\n",
       "    <tr>\n",
       "      <th>9</th>\n",
       "      <td>4095.0</td>\n",
       "      <td>170226_001</td>\n",
       "      <td>4349.0</td>\n",
       "      <td>4166.0</td>\n",
       "      <td>2242.0</td>\n",
       "      <td>0.036</td>\n",
       "    </tr>\n",
       "  </tbody>\n",
       "</table>\n",
       "</div>"
      ],
      "text/plain": [
       "    Light     Surface    XAcc    YAcc    ZAcc      t\n",
       "0  4095.0  170226_001  4364.0  4154.0  2240.0  0.000\n",
       "1  4095.0  170226_001  4349.0  4161.0  2237.0  0.004\n",
       "2  4095.0  170226_001  4363.0  4161.0  2251.0  0.008\n",
       "3  4095.0  170226_001  4361.0  4167.0  2235.0  0.012\n",
       "4  4095.0  170226_001  4360.0  4148.0  2234.0  0.016\n",
       "5  4095.0  170226_001  4351.0  4158.0  2250.0  0.020\n",
       "6  4095.0  170226_001  4345.0  4146.0  2250.0  0.024\n",
       "7  4095.0  170226_001  4343.0  4143.0  2268.0  0.028\n",
       "8  4095.0  170226_001  4348.0  4153.0  2253.0  0.032\n",
       "9  4095.0  170226_001  4349.0  4166.0  2242.0  0.036"
      ]
     },
     "execution_count": 11,
     "metadata": {},
     "output_type": "execute_result"
    }
   ],
   "source": [
    "dfData.head(10)"
   ]
  },
  {
   "cell_type": "code",
   "execution_count": null,
   "metadata": {
    "collapsed": true
   },
   "outputs": [],
   "source": []
  }
 ],
 "metadata": {
  "kernelspec": {
   "display_name": "Python 2",
   "language": "python",
   "name": "python2"
  },
  "language_info": {
   "codemirror_mode": {
    "name": "ipython",
    "version": 2
   },
   "file_extension": ".py",
   "mimetype": "text/x-python",
   "name": "python",
   "nbconvert_exporter": "python",
   "pygments_lexer": "ipython2",
   "version": "2.7.12"
  }
 },
 "nbformat": 4,
 "nbformat_minor": 0
}
