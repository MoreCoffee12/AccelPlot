{
 "cells": [
  {
   "cell_type": "code",
   "execution_count": 1,
   "metadata": {},
   "outputs": [],
   "source": [
    "%matplotlib inline"
   ]
  },
  {
   "cell_type": "code",
   "execution_count": 2,
   "metadata": {},
   "outputs": [],
   "source": [
    "# Open the file"
   ]
  },
  {
   "cell_type": "code",
   "execution_count": 3,
   "metadata": {},
   "outputs": [
    {
     "name": "stdout",
     "output_type": "stream",
     "text": [
      "(4360.0,)\n",
      "(4359.0,)\n",
      "(4359.0,)\n"
     ]
    }
   ],
   "source": [
    "import struct\n",
    "fh = open(\"Trace04_0000008.dat\", 'rb')\n",
    "iVal = struct.unpack('>f', fh.read(4))\n",
    "print(iVal)\n",
    "iVal = struct.unpack('>f', fh.read(4))\n",
    "print(iVal)\n",
    "iVal = struct.unpack('>f', fh.read(4))\n",
    "print(iVal)\n",
    "fh.close()"
   ]
  },
  {
   "cell_type": "code",
   "execution_count": 4,
   "metadata": {},
   "outputs": [],
   "source": [
    "fh.close()"
   ]
  },
  {
   "cell_type": "code",
   "execution_count": 5,
   "metadata": {},
   "outputs": [],
   "source": [
    "# The offset constant,F_OFFSET_COUNT, is defined in Bluetooth.java"
   ]
  },
  {
   "cell_type": "code",
   "execution_count": 6,
   "metadata": {},
   "outputs": [
    {
     "name": "stdout",
     "output_type": "stream",
     "text": [
      "[4224. 4224. 4224. 4224. 4224. 4224. 4224. 4224. 4224. 4224. 4224. 4224.\n",
      " 4224. 4224. 4224. 4224. 4224. 4224. 4224. 4224. 4224. 4224. 4224. 4224.\n",
      " 4224. 4224. 4224. 4224. 4224. 4224. 4224. 4224. 4224. 4224. 4224. 4224.\n",
      " 4224. 4224. 4224. 4224. 4224. 4224. 4224. 4224. 4224. 4224. 4224. 4224.\n",
      " 4224. 4224. 4224. 4224. 4224. 4224. 4224. 4224. 4224. 4224. 4224. 4224.\n",
      " 4224. 4224. 4224. 4224. 4224. 4224. 4224. 4224. 4224. 4224. 4224. 4224.\n",
      " 4224. 4224. 4224. 4224. 4224. 4224. 4224. 4224. 4224. 4224. 4224. 4224.\n",
      " 4224. 4224. 4224. 4224. 4224. 4224. 4224. 4224. 4224. 4224. 4224. 4224.\n",
      " 4224. 4224. 4224. 4224. 4224. 4224. 4224. 4224. 4224. 4224. 4224. 4224.\n",
      " 4224. 4224. 4224. 4224. 4224. 4224. 4224. 4224. 4224. 4224. 4224. 4224.\n",
      " 4224. 4224. 4224. 4224. 4224. 4224. 4224. 4224. 4224. 4224. 4224. 4224.\n",
      " 4224. 4224. 4224. 4224. 4224. 4224. 4224. 4224. 4224. 4224. 4224. 4224.\n",
      " 4224. 4224. 4224. 4224. 4224. 4224. 4224. 4224. 4224. 4224. 4224. 4224.\n",
      " 4224. 4224. 4224. 4224. 4224. 4224. 4224. 4224. 4224. 4224. 4224. 4224.\n",
      " 4224. 4224. 4224. 4224. 4224. 4224. 4224. 4224. 4224. 4224. 4224. 4224.\n",
      " 4224. 4224. 4224. 4224. 4224. 4224. 4224. 4224. 4224. 4224. 4224. 4224.\n",
      " 4224. 4224. 4224. 4224. 4224. 4224. 4224. 4224. 4224. 4224. 4224. 4224.\n",
      " 4224. 4224. 4224. 4224. 4224. 4224. 4224. 4224. 4224. 4224. 4224. 4224.\n",
      " 4224. 4224. 4224. 4224. 4224. 4224. 4224. 4224. 4224. 4224. 4224. 4224.\n",
      " 4224. 4224. 4224. 4224. 4224. 4224. 4224. 4224. 4224. 4224. 4224. 4224.\n",
      " 4224. 4224. 4224. 4224. 4224. 4224. 4224. 4224. 4224. 4224. 4224. 4224.\n",
      " 4224. 4224. 4224. 4224. 4224. 4224. 4224. 4224. 4224. 4224. 4224. 4224.\n",
      " 4224. 4224. 4224. 4224. 4224. 4224. 4224. 4224. 4224. 4224. 4224. 4224.\n",
      " 4224. 4224. 4224. 4224. 4224. 4224. 4224. 4224. 4224. 4224. 4224. 4224.\n",
      " 4224. 4224. 4224. 4224. 4224. 4224. 4224. 4224. 4224. 4224. 4224. 4224.\n",
      " 4224. 4224. 4224. 4224. 4224. 4224. 4224. 4224. 4224. 4224. 4224. 4224.\n",
      " 4224. 4224. 4224. 4224. 4224. 4224. 4224. 4224. 4224. 4224. 4224. 4224.\n",
      " 4224. 4224. 4224. 4224. 4224. 4224. 4224. 4224. 4224. 4224. 4224. 4224.\n",
      " 4224. 4224. 4224. 4224. 4224. 4224. 4224. 4224. 4224. 4224. 4224. 4224.\n",
      " 4224. 4224. 4224. 4224. 4224. 4224. 4224. 4224. 4224. 4224. 4224. 4224.\n",
      " 4224. 4224. 4224. 4224. 4224. 4224. 4224. 4224. 4224. 4224. 4224. 4224.\n",
      " 4224. 4224. 4224. 4224. 4224. 4224. 4224. 4224. 4224. 4224. 4224. 4224.\n",
      " 4224. 4224. 4224. 4224. 4224. 4224. 4224. 4224. 4224. 4224. 4224. 4224.\n",
      " 4224. 4224. 4224. 4224. 4224. 4224. 4224. 4224. 4224. 4224. 4224. 4224.\n",
      " 4224. 4224. 4224. 4224. 4224. 4224. 4224. 4224. 4224. 4224. 4224. 4224.\n",
      " 4224. 4224. 4224. 4224. 4224. 4224. 4224. 4224. 4224. 4224. 4224. 4224.\n",
      " 4224. 4224. 4224. 4224. 4224. 4224. 4224. 4224. 4224. 4224. 4224. 4224.\n",
      " 4224. 4224. 4224. 4224. 4224. 4224. 4224. 4224. 4224. 4224. 4224. 4224.\n",
      " 4224. 4224. 4224. 4224. 4224. 4224. 4224. 4224. 4224. 4224. 4224. 4224.\n",
      " 4224. 4224. 4224. 4224. 4224. 4224. 4224. 4224. 4224. 4224. 4224. 4224.\n",
      " 4224. 4224. 4224. 4224. 4224. 4224. 4224. 4224. 4224. 4224. 4224. 4224.\n",
      " 4224. 4224. 4224. 4224. 4224. 4224. 4224. 4224.]\n"
     ]
    }
   ],
   "source": [
    "import numpy as np\n",
    "F_OFFSET_COUNT = 4095.0\n",
    "fh = open(\"Trace04_0000031.dat\", 'rb')\n",
    "x = np.fromfile(fh, dtype=('>f'))  # read the data into numpy\n",
    "print(x) \n",
    "fh.close()"
   ]
  },
  {
   "cell_type": "code",
   "execution_count": 7,
   "metadata": {},
   "outputs": [
    {
     "data": {
      "text/plain": [
       "[<matplotlib.lines.Line2D at 0x1bb2685ceb0>]"
      ]
     },
     "execution_count": 7,
     "metadata": {},
     "output_type": "execute_result"
    },
    {
     "data": {
      "image/png": "[encoded data removed]",
      "text/plain": [
       "<Figure size 432x288 with 1 Axes>"
      ]
     },
     "metadata": {
      "needs_background": "light"
     },
     "output_type": "display_data"
    }
   ],
   "source": [
    "import matplotlib.pyplot as plt\n",
    "plt.plot(x-F_OFFSET_COUNT)"
   ]
  },
  {
   "cell_type": "code",
   "execution_count": null,
   "metadata": {},
   "outputs": [],
   "source": []
  }
 ],
 "metadata": {
  "kernelspec": {
   "display_name": "envp39",
   "language": "python",
   "name": "envp39"
  },
  "language_info": {
   "codemirror_mode": {
    "name": "ipython",
    "version": 3
   },
   "file_extension": ".py",
   "mimetype": "text/x-python",
   "name": "python",
   "nbconvert_exporter": "python",
   "pygments_lexer": "ipython3",
   "version": "3.9.7"
  }
 },
 "nbformat": 4,
 "nbformat_minor": 1
}
