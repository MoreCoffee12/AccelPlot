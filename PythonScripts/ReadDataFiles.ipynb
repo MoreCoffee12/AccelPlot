{
 "cells": [
  {
   "cell_type": "code",
   "execution_count": 4,
   "metadata": {
    "collapsed": true
   },
   "outputs": [],
   "source": [
    "%matplotlib inline"
   ]
  },
  {
   "cell_type": "code",
   "execution_count": 5,
   "metadata": {
    "collapsed": true
   },
   "outputs": [],
   "source": [
    "# Open the file"
   ]
  },
  {
   "cell_type": "code",
   "execution_count": 6,
   "metadata": {
    "collapsed": false
   },
   "outputs": [
    {
     "name": "stdout",
     "output_type": "stream",
     "text": [
      "(4360.0,)\n",
      "(4359.0,)\n",
      "(4359.0,)\n"
     ]
    }
   ],
   "source": [
    "import struct\n",
    "fh = open(\"Trace04_0000008.dat\", 'rb')\n",
    "iVal = struct.unpack('>f', fh.read(4))\n",
    "print iVal\n",
    "iVal = struct.unpack('>f', fh.read(4))\n",
    "print iVal\n",
    "iVal = struct.unpack('>f', fh.read(4))\n",
    "print iVal\n",
    "fh.close()"
   ]
  },
  {
   "cell_type": "code",
   "execution_count": 7,
   "metadata": {
    "collapsed": false
   },
   "outputs": [],
   "source": [
    "fh.close()"
   ]
  },
  {
   "cell_type": "code",
   "execution_count": 8,
   "metadata": {
    "collapsed": true
   },
   "outputs": [],
   "source": [
    "# The offset constant,F_OFFSET_COUNT, is defined in Bluetooth.java"
   ]
  },
  {
   "cell_type": "code",
   "execution_count": 14,
   "metadata": {
    "collapsed": false
   },
   "outputs": [
    {
     "name": "stdout",
     "output_type": "stream",
     "text": [
      "[ 4224.  4224.  4224.  4224.  4224.  4224.  4224.  4224.  4224.  4224.\n",
      "  4224.  4224.  4224.  4224.  4224.  4224.  4224.  4224.  4224.  4224.\n",
      "  4224.  4224.  4224.  4224.  4224.  4224.  4224.  4224.  4224.  4224.\n",
      "  4224.  4224.  4224.  4224.  4224.  4224.  4224.  4224.  4224.  4224.\n",
      "  4224.  4224.  4224.  4224.  4224.  4224.  4224.  4224.  4224.  4224.\n",
      "  4224.  4224.  4224.  4224.  4224.  4224.  4224.  4224.  4224.  4224.\n",
      "  4224.  4224.  4224.  4224.  4224.  4224.  4224.  4224.  4224.  4224.\n",
      "  4224.  4224.  4224.  4224.  4224.  4224.  4224.  4224.  4224.  4224.\n",
      "  4224.  4224.  4224.  4224.  4224.  4224.  4224.  4224.  4224.  4224.\n",
      "  4224.  4224.  4224.  4224.  4224.  4224.  4224.  4224.  4224.  4224.\n",
      "  4224.  4224.  4224.  4224.  4224.  4224.  4224.  4224.  4224.  4224.\n",
      "  4224.  4224.  4224.  4224.  4224.  4224.  4224.  4224.  4224.  4224.\n",
      "  4224.  4224.  4224.  4224.  4224.  4224.  4224.  4224.  4224.  4224.\n",
      "  4224.  4224.  4224.  4224.  4224.  4224.  4224.  4224.  4224.  4224.\n",
      "  4224.  4224.  4224.  4224.  4224.  4224.  4224.  4224.  4224.  4224.\n",
      "  4224.  4224.  4224.  4224.  4224.  4224.  4224.  4224.  4224.  4224.\n",
      "  4224.  4224.  4224.  4224.  4224.  4224.  4224.  4224.  4224.  4224.\n",
      "  4224.  4224.  4224.  4224.  4224.  4224.  4224.  4224.  4224.  4224.\n",
      "  4224.  4224.  4224.  4224.  4224.  4224.  4224.  4224.  4224.  4224.\n",
      "  4224.  4224.  4224.  4224.  4224.  4224.  4224.  4224.  4224.  4224.\n",
      "  4224.  4224.  4224.  4224.  4224.  4224.  4224.  4224.  4224.  4224.\n",
      "  4224.  4224.  4224.  4224.  4224.  4224.  4224.  4224.  4224.  4224.\n",
      "  4224.  4224.  4224.  4224.  4224.  4224.  4224.  4224.  4224.  4224.\n",
      "  4224.  4224.  4224.  4224.  4224.  4224.  4224.  4224.  4224.  4224.\n",
      "  4224.  4224.  4224.  4224.  4224.  4224.  4224.  4224.  4224.  4224.\n",
      "  4224.  4224.  4224.  4224.  4224.  4224.  4224.  4224.  4224.  4224.\n",
      "  4224.  4224.  4224.  4224.  4224.  4224.  4224.  4224.  4224.  4224.\n",
      "  4224.  4224.  4224.  4224.  4224.  4224.  4224.  4224.  4224.  4224.\n",
      "  4224.  4224.  4224.  4224.  4224.  4224.  4224.  4224.  4224.  4224.\n",
      "  4224.  4224.  4224.  4224.  4224.  4224.  4224.  4224.  4224.  4224.\n",
      "  4224.  4224.  4224.  4224.  4224.  4224.  4224.  4224.  4224.  4224.\n",
      "  4224.  4224.  4224.  4224.  4224.  4224.  4224.  4224.  4224.  4224.\n",
      "  4224.  4224.  4224.  4224.  4224.  4224.  4224.  4224.  4224.  4224.\n",
      "  4224.  4224.  4224.  4224.  4224.  4224.  4224.  4224.  4224.  4224.\n",
      "  4224.  4224.  4224.  4224.  4224.  4224.  4224.  4224.  4224.  4224.\n",
      "  4224.  4224.  4224.  4224.  4224.  4224.  4224.  4224.  4224.  4224.\n",
      "  4224.  4224.  4224.  4224.  4224.  4224.  4224.  4224.  4224.  4224.\n",
      "  4224.  4224.  4224.  4224.  4224.  4224.  4224.  4224.  4224.  4224.\n",
      "  4224.  4224.  4224.  4224.  4224.  4224.  4224.  4224.  4224.  4224.\n",
      "  4224.  4224.  4224.  4224.  4224.  4224.  4224.  4224.  4224.  4224.\n",
      "  4224.  4224.  4224.  4224.  4224.  4224.  4224.  4224.  4224.  4224.\n",
      "  4224.  4224.  4224.  4224.  4224.  4224.  4224.  4224.  4224.  4224.\n",
      "  4224.  4224.  4224.  4224.  4224.  4224.  4224.  4224.  4224.  4224.\n",
      "  4224.  4224.  4224.  4224.  4224.  4224.  4224.  4224.  4224.  4224.\n",
      "  4224.  4224.  4224.  4224.  4224.  4224.  4224.  4224.  4224.  4224.\n",
      "  4224.  4224.  4224.  4224.  4224.  4224.  4224.  4224.  4224.  4224.\n",
      "  4224.  4224.  4224.  4224.  4224.  4224.  4224.  4224.  4224.  4224.\n",
      "  4224.  4224.  4224.  4224.  4224.  4224.  4224.  4224.  4224.  4224.\n",
      "  4224.  4224.  4224.  4224.  4224.  4224.  4224.  4224.  4224.  4224.\n",
      "  4224.  4224.  4224.  4224.  4224.  4224.  4224.  4224.  4224.  4224.]\n"
     ]
    }
   ],
   "source": [
    "import numpy as np\n",
    "F_OFFSET_COUNT = 4095.0\n",
    "fh = open(\"Trace04_0000031.dat\", 'rb')\n",
    "x = np.fromfile(fh, dtype=('>f'))  # read the data into numpy\n",
    "print x \n",
    "fh.close()"
   ]
  },
  {
   "cell_type": "code",
   "execution_count": 10,
   "metadata": {
    "collapsed": false
   },
   "outputs": [
    {
     "data": {
      "text/plain": [
       "[<matplotlib.lines.Line2D at 0x76c74a8>]"
      ]
     },
     "execution_count": 10,
     "metadata": {},
     "output_type": "execute_result"
    },
    {
     "data": {
      "image/png": "[encoded data removed]",
      "text/plain": [
       "<matplotlib.figure.Figure at 0x7591080>"
      ]
     },
     "metadata": {},
     "output_type": "display_data"
    }
   ],
   "source": [
    "import matplotlib.pyplot as plt\n",
    "plt.plot(x-F_OFFSET_COUNT)"
   ]
  },
  {
   "cell_type": "code",
   "execution_count": null,
   "metadata": {
    "collapsed": true
   },
   "outputs": [],
   "source": []
  }
 ],
 "metadata": {
  "kernelspec": {
   "display_name": "Python 2",
   "language": "python",
   "name": "python2"
  },
  "language_info": {
   "codemirror_mode": {
    "name": "ipython",
    "version": 2
   },
   "file_extension": ".py",
   "mimetype": "text/x-python",
   "name": "python",
   "nbconvert_exporter": "python",
   "pygments_lexer": "ipython2",
   "version": "2.7.12"
  }
 },
 "nbformat": 4,
 "nbformat_minor": 0
}
